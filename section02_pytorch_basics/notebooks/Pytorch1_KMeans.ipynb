{
  "cells": [
    {
      "cell_type": "markdown",
      "metadata": {
        "id": "U-qnDxouyLMx"
      },
      "source": [
        "<h1>Kmeans Clustering</h1>\n",
        "<img src=\"https://github.com/asyz8/pytorch_tutorials/blob/main/section02_pytorch_basics/data/K_means.gif?raw=1\" width=\"1000\" align=\"center\">\n",
        "With our knowledge of Python and now Numpy lets create an implementation of a famous machine learning algorithm \"K-Means Clustering\". The job of a clustering algorithm is to break a dataset into some number of \"clusters\" (groups), the number of clusters usually defined by the user. K-Means clustering working by iteratively updating  a pre-defined number of cluster centers. It does this by finding the distance between each datapoint and every cluster center. Datapoints are then assigned to the cluster center they are closest to and each cluster center is updated to be the mean of the new cluster. These steps are updated for some number of steps or until the cluster centers converge (they stop moving so much)<br>\n",
        "<b>Lets have a look at the steps of K-means clustering</b><br>\n",
        "1. Define the number of clusters \"k\" you want to group your data into<br>\n",
        "2. Randomly initialise k vectors with the same size as each datapoint, this is the initialisation of our cluster centers<br>\n",
        "3. Calculate the distance between each datapoint and each cluster center (using MSE or equivalent)<br>\n",
        "4. For every datapoint find the cluster center they are closest to<br>\n",
        "5. Re-calculate the cluster centers by finding the mean of every new cluster<br>\n",
        "6. Repeat steps 3-6 for n steps or until convergence"
      ]
    },
    {
      "cell_type": "code",
      "source": [
        "import urllib.request\n",
        "import gzip\n",
        "import pickle\n",
        "import os\n",
        "import numpy as np\n",
        "\n",
        "from PIL import Image\n",
        "\n",
        "def _download(file_name):\n",
        "    file_path = dataset_dir + \"/\" + file_name\n",
        "\n",
        "    if os.path.exists(file_path):\n",
        "        return\n",
        "    else:\n",
        "        os.makedirs(dataset_dir, exist_ok=True)\n",
        "\n",
        "    print(\"Downloading \" + file_name + \" ... \")\n",
        "    urllib.request.urlretrieve(url_base + file_name, file_path)\n",
        "    print(\"Done\")\n",
        "\n",
        "def download_mnist():\n",
        "    for v in key_file.values():\n",
        "        _download(v)\n",
        "\n",
        "def _load_label(file_name):\n",
        "    file_path = dataset_dir + \"/\" + file_name\n",
        "\n",
        "    print(\"Converting \" + file_name + \" to NumPy Array ...\")\n",
        "    with gzip.open(file_path, 'rb') as f:\n",
        "            labels = np.frombuffer(f.read(), np.uint8, offset=8)\n",
        "    print(\"Done\")\n",
        "\n",
        "    return labels\n",
        "\n",
        "def _load_img(file_name):\n",
        "    file_path = dataset_dir + \"/\" + file_name\n",
        "\n",
        "    print(\"Converting \" + file_name + \" to NumPy Array ...\")\n",
        "    with gzip.open(file_path, 'rb') as f:\n",
        "            data = np.frombuffer(f.read(), np.uint8, offset=16)\n",
        "    data = data.reshape(-1, img_size)\n",
        "    print(\"Done\")\n",
        "\n",
        "    return data\n",
        "\n",
        "def _convert_numpy():\n",
        "    dataset = {}\n",
        "    dataset['train_img'] =  _load_img(key_file['train_img'])\n",
        "    dataset['train_label'] = _load_label(key_file['train_label'])\n",
        "    dataset['test_img'] = _load_img(key_file['test_img'])\n",
        "    dataset['test_label'] = _load_label(key_file['test_label'])\n",
        "\n",
        "    return dataset\n",
        "\n",
        "def init_mnist():\n",
        "    download_mnist()\n",
        "    dataset = _convert_numpy()\n",
        "    print(\"Creating pickle file ...\")\n",
        "    with open(save_file, 'wb') as f:\n",
        "        pickle.dump(dataset, f, -1)\n",
        "    print(\"Done\")\n",
        "\n",
        "def _change_ont_hot_label(X):\n",
        "    T = np.zeros((X.size, 10))\n",
        "    for idx, row in enumerate(T):\n",
        "        row[X[idx]] = 1\n",
        "\n",
        "    return T\n",
        "\n",
        "def load_mnist(normalize=True, flatten=True, one_hot_label=False):\n",
        "    \"\"\"\n",
        "    Parameters\n",
        "    ----------\n",
        "    normalize : Normalize the pixel values\n",
        "    flatten : Flatten the images as one array\n",
        "    one_hot_label : Encode the labels as a one-hot array\n",
        "\n",
        "    Returns\n",
        "    -------\n",
        "    (Trainig Image, Training Label), (Test Image, Test Label)\n",
        "    \"\"\"\n",
        "    if not os.path.exists(save_file):\n",
        "        init_mnist()\n",
        "\n",
        "    with open(save_file, 'rb') as f:\n",
        "        dataset = pickle.load(f)\n",
        "\n",
        "    if normalize:\n",
        "        for key in ('train_img', 'test_img'):\n",
        "            dataset[key] = dataset[key].astype(np.float32)\n",
        "            dataset[key] /= 255.0\n",
        "\n",
        "    if not flatten:\n",
        "         for key in ('train_img', 'test_img'):\n",
        "            dataset[key] = dataset[key].reshape(-1, 1, 28, 28)\n",
        "\n",
        "    if one_hot_label:\n",
        "        dataset['train_label'] = _change_ont_hot_label(dataset['train_label'])\n",
        "        dataset['test_label'] = _change_ont_hot_label(dataset['test_label'])\n",
        "\n",
        "    return (dataset['train_img'], dataset['train_label']), (dataset['test_img'], dataset['test_label'])\n",
        "\n",
        "def img_show(img):\n",
        "    pil_img = Image.fromarray(np.uint8(img))\n",
        "    pil_img.show()\n",
        "\n",
        "\n",
        "# Load the MNIST dataset\n",
        "url_base = 'https://ossci-datasets.s3.amazonaws.com/mnist/'\n",
        "key_file = {\n",
        "    'train_img':'train-images-idx3-ubyte.gz',\n",
        "    'train_label':'train-labels-idx1-ubyte.gz',\n",
        "    'test_img':'t10k-images-idx3-ubyte.gz',\n",
        "    'test_label':'t10k-labels-idx1-ubyte.gz'\n",
        "}\n",
        "\n",
        "dataset_dir = \"datasets/MNIST/raw\"\n",
        "save_file = dataset_dir + \"/mnist.pkl\"\n",
        "\n",
        "train_num = 60000\n",
        "test_num = 10000\n",
        "img_dim = (1, 28, 28)\n",
        "img_size = 784\n",
        "\n",
        "(train_x, train_y), (test_x, test_y) = load_mnist(normalize=False, flatten=True)"
      ],
      "metadata": {
        "colab": {
          "base_uri": "https://localhost:8080/"
        },
        "id": "f8gw7wKi0lE4",
        "outputId": "daffcaac-cc6d-45a3-be1f-8243aa056ff4"
      },
      "execution_count": 8,
      "outputs": [
        {
          "output_type": "stream",
          "name": "stdout",
          "text": [
            "Downloading train-images-idx3-ubyte.gz ... \n",
            "Done\n",
            "Downloading train-labels-idx1-ubyte.gz ... \n",
            "Done\n",
            "Downloading t10k-images-idx3-ubyte.gz ... \n",
            "Done\n",
            "Downloading t10k-labels-idx1-ubyte.gz ... \n",
            "Done\n",
            "Converting train-images-idx3-ubyte.gz to NumPy Array ...\n",
            "Done\n",
            "Converting train-labels-idx1-ubyte.gz to NumPy Array ...\n",
            "Done\n",
            "Converting t10k-images-idx3-ubyte.gz to NumPy Array ...\n",
            "Done\n",
            "Converting t10k-labels-idx1-ubyte.gz to NumPy Array ...\n",
            "Done\n",
            "Creating pickle file ...\n",
            "Done\n"
          ]
        }
      ]
    },
    {
      "cell_type": "code",
      "execution_count": 9,
      "metadata": {
        "id": "4JVuNPESyLMy"
      },
      "outputs": [],
      "source": [
        "import matplotlib.pyplot as plt\n",
        "import numpy as np\n",
        "import torch\n",
        "import time\n",
        "from IPython.display import clear_output"
      ]
    },
    {
      "cell_type": "markdown",
      "metadata": {
        "id": "hu_h2ZRjyLMz"
      },
      "source": [
        "<b>Using the module \"load\" that comes with this notebook, lets load our dataset</b><br>\n",
        "The dataset we'll be using is the MNIST dataset, a dataset of small, low-res handwritten digits. There are 60000 training images and 10000 test images divided up into 10 classes (digits 0-9). Here we will be using the test set (as it's a smaller set)"
      ]
    },
    {
      "cell_type": "code",
      "execution_count": 10,
      "metadata": {
        "id": "i4CpylwkyLMz"
      },
      "outputs": [],
      "source": [
        "#Number of datapoint\n",
        "num_img = 10000\n",
        "#Number of cluster centers, 10 because the dataset contains 10 classes eg: digit 0 to 9\n",
        "num_means = 10\n",
        "#We'll perform this many iterations of the algorithm\n",
        "iterations = 20\n",
        "#Each image is 28*28 pixels, which has been flattened to a vector 0f 784 values\n",
        "data_size = 28*28\n",
        "# The images are 8 bit greyscale images (values range from 0-255)\n",
        "# We'll rescale the pixel values to be between 0-1 (We don't REALLY need to do this for k-means)\n",
        "test_x_tensor = torch.Tensor((test_x.astype(float) / 255))"
      ]
    },
    {
      "cell_type": "code",
      "source": [
        "test_x_tensor.shape"
      ],
      "metadata": {
        "colab": {
          "base_uri": "https://localhost:8080/"
        },
        "id": "sSf07txC1gQv",
        "outputId": "72bf767d-5be5-4991-c593-4cc3c8ac1858"
      },
      "execution_count": 11,
      "outputs": [
        {
          "output_type": "execute_result",
          "data": {
            "text/plain": [
              "torch.Size([10000, 784])"
            ]
          },
          "metadata": {},
          "execution_count": 11
        }
      ]
    },
    {
      "cell_type": "markdown",
      "metadata": {
        "id": "C-yiOeNUyLMz"
      },
      "source": [
        "<h3> Kmeans Initialization </h3>\n",
        "Here we'll initialise the cluster centers to random values by creating a 10*784 matrix (2D Tensor) by randomly sampling 10 points from the dataset"
      ]
    },
    {
      "cell_type": "code",
      "execution_count": 19,
      "metadata": {
        "id": "AgOq7VAQyLMz"
      },
      "outputs": [],
      "source": [
        "#Randomly generate K indicies for k datapoints from the dataset (indicies need to be int)\n"
      ]
    },
    {
      "cell_type": "markdown",
      "metadata": {
        "id": "whO4fVeFyLM0"
      },
      "source": [
        "<h3> Kmeans Algorithm </h3>\n",
        "Now implement the main steps of the K-Means clustering algorithm! Try and make it as efficient as possible and minimise the time/iteration"
      ]
    },
    {
      "cell_type": "code",
      "execution_count": 26,
      "metadata": {
        "colab": {
          "base_uri": "https://localhost:8080/"
        },
        "id": "_YCt7mVPyLM0",
        "outputId": "6238caaf-0588-48c3-e302-40942ebbcca9"
      },
      "outputs": [
        {
          "output_type": "stream",
          "name": "stdout",
          "text": [
            "tensor([2, 1, 1, 6, 3, 1, 2, 1, 1, 9])\n",
            "torch.Size([10000, 10]) torch.Size([10000])\n",
            "0 tensor(264)\n",
            "1 tensor(2511)\n",
            "2 tensor(2033)\n",
            "3 tensor(622)\n",
            "4 tensor(209)\n",
            "5 tensor(1165)\n",
            "6 tensor(544)\n",
            "7 tensor(1133)\n",
            "8 tensor(699)\n",
            "9 tensor(820)\n",
            "Iteration [0/20]\n",
            "tensor([2, 1, 1, 6, 3, 1, 2, 2, 3, 9])\n",
            "torch.Size([10000, 10]) torch.Size([10000])\n",
            "0 tensor(428)\n",
            "1 tensor(2123)\n",
            "2 tensor(1703)\n",
            "3 tensor(707)\n",
            "4 tensor(217)\n",
            "5 tensor(1125)\n",
            "6 tensor(630)\n",
            "7 tensor(1347)\n",
            "8 tensor(685)\n",
            "9 tensor(1035)\n",
            "Iteration [1/20]\n",
            "tensor([2, 1, 1, 6, 3, 1, 2, 2, 3, 9])\n",
            "torch.Size([10000, 10]) torch.Size([10000])\n",
            "0 tensor(422)\n",
            "1 tensor(1849)\n",
            "2 tensor(1597)\n",
            "3 tensor(796)\n",
            "4 tensor(231)\n",
            "5 tensor(1140)\n",
            "6 tensor(630)\n",
            "7 tensor(1408)\n",
            "8 tensor(805)\n",
            "9 tensor(1122)\n",
            "Iteration [2/20]\n",
            "tensor([2, 1, 1, 6, 3, 1, 2, 3, 3, 9])\n",
            "torch.Size([10000, 10]) torch.Size([10000])\n",
            "0 tensor(408)\n",
            "1 tensor(1705)\n",
            "2 tensor(1513)\n",
            "3 tensor(845)\n",
            "4 tensor(280)\n",
            "5 tensor(1181)\n",
            "6 tensor(606)\n",
            "7 tensor(1413)\n",
            "8 tensor(858)\n",
            "9 tensor(1191)\n",
            "Iteration [3/20]\n",
            "tensor([2, 7, 1, 6, 3, 1, 2, 3, 3, 9])\n",
            "torch.Size([10000, 10]) torch.Size([10000])\n",
            "0 tensor(404)\n",
            "1 tensor(1637)\n",
            "2 tensor(1444)\n",
            "3 tensor(879)\n",
            "4 tensor(349)\n",
            "5 tensor(1195)\n",
            "6 tensor(570)\n",
            "7 tensor(1396)\n",
            "8 tensor(872)\n",
            "9 tensor(1254)\n",
            "Iteration [4/20]\n",
            "tensor([2, 7, 1, 6, 3, 1, 2, 3, 3, 9])\n",
            "torch.Size([10000, 10]) torch.Size([10000])\n",
            "0 tensor(430)\n",
            "1 tensor(1611)\n",
            "2 tensor(1400)\n",
            "3 tensor(902)\n",
            "4 tensor(397)\n",
            "5 tensor(1156)\n",
            "6 tensor(566)\n",
            "7 tensor(1367)\n",
            "8 tensor(884)\n",
            "9 tensor(1287)\n",
            "Iteration [5/20]\n",
            "tensor([2, 7, 1, 6, 3, 1, 2, 3, 5, 9])\n",
            "torch.Size([10000, 10]) torch.Size([10000])\n",
            "0 tensor(471)\n",
            "1 tensor(1598)\n",
            "2 tensor(1368)\n",
            "3 tensor(931)\n",
            "4 tensor(431)\n",
            "5 tensor(1125)\n",
            "6 tensor(567)\n",
            "7 tensor(1342)\n",
            "8 tensor(879)\n",
            "9 tensor(1288)\n",
            "Iteration [6/20]\n",
            "tensor([2, 7, 1, 6, 3, 1, 2, 3, 5, 9])\n",
            "torch.Size([10000, 10]) torch.Size([10000])\n",
            "0 tensor(534)\n",
            "1 tensor(1590)\n",
            "2 tensor(1328)\n",
            "3 tensor(962)\n",
            "4 tensor(456)\n",
            "5 tensor(1066)\n",
            "6 tensor(566)\n",
            "7 tensor(1332)\n",
            "8 tensor(892)\n",
            "9 tensor(1274)\n",
            "Iteration [7/20]\n",
            "tensor([2, 7, 1, 6, 3, 1, 2, 3, 5, 9])\n",
            "torch.Size([10000, 10]) torch.Size([10000])\n",
            "0 tensor(592)\n",
            "1 tensor(1589)\n",
            "2 tensor(1314)\n",
            "3 tensor(974)\n",
            "4 tensor(469)\n",
            "5 tensor(1006)\n",
            "6 tensor(574)\n",
            "7 tensor(1325)\n",
            "8 tensor(904)\n",
            "9 tensor(1253)\n",
            "Iteration [8/20]\n",
            "tensor([2, 7, 1, 6, 3, 1, 2, 3, 5, 9])\n",
            "torch.Size([10000, 10]) torch.Size([10000])\n",
            "0 tensor(641)\n",
            "1 tensor(1597)\n",
            "2 tensor(1298)\n",
            "3 tensor(988)\n",
            "4 tensor(479)\n",
            "5 tensor(966)\n",
            "6 tensor(576)\n",
            "7 tensor(1317)\n",
            "8 tensor(904)\n",
            "9 tensor(1234)\n",
            "Iteration [9/20]\n",
            "tensor([2, 7, 1, 6, 3, 1, 2, 3, 5, 9])\n",
            "torch.Size([10000, 10]) torch.Size([10000])\n",
            "0 tensor(679)\n",
            "1 tensor(1603)\n",
            "2 tensor(1282)\n",
            "3 tensor(1002)\n",
            "4 tensor(487)\n",
            "5 tensor(938)\n",
            "6 tensor(574)\n",
            "7 tensor(1311)\n",
            "8 tensor(906)\n",
            "9 tensor(1218)\n",
            "Iteration [10/20]\n",
            "tensor([2, 7, 1, 6, 3, 1, 2, 3, 5, 9])\n",
            "torch.Size([10000, 10]) torch.Size([10000])\n",
            "0 tensor(717)\n",
            "1 tensor(1606)\n",
            "2 tensor(1269)\n",
            "3 tensor(1008)\n",
            "4 tensor(493)\n",
            "5 tensor(906)\n",
            "6 tensor(582)\n",
            "7 tensor(1302)\n",
            "8 tensor(911)\n",
            "9 tensor(1206)\n",
            "Iteration [11/20]\n",
            "tensor([2, 7, 1, 6, 3, 1, 2, 3, 3, 9])\n",
            "torch.Size([10000, 10]) torch.Size([10000])\n",
            "0 tensor(758)\n",
            "1 tensor(1612)\n",
            "2 tensor(1257)\n",
            "3 tensor(1014)\n",
            "4 tensor(500)\n",
            "5 tensor(853)\n",
            "6 tensor(590)\n",
            "7 tensor(1281)\n",
            "8 tensor(935)\n",
            "9 tensor(1200)\n",
            "Iteration [12/20]\n",
            "tensor([2, 7, 1, 6, 3, 1, 2, 3, 3, 9])\n",
            "torch.Size([10000, 10]) torch.Size([10000])\n",
            "0 tensor(796)\n",
            "1 tensor(1610)\n",
            "2 tensor(1249)\n",
            "3 tensor(1018)\n",
            "4 tensor(505)\n",
            "5 tensor(822)\n",
            "6 tensor(593)\n",
            "7 tensor(1268)\n",
            "8 tensor(955)\n",
            "9 tensor(1184)\n",
            "Iteration [13/20]\n",
            "tensor([2, 7, 1, 6, 3, 1, 2, 3, 3, 9])\n",
            "torch.Size([10000, 10]) torch.Size([10000])\n",
            "0 tensor(815)\n",
            "1 tensor(1609)\n",
            "2 tensor(1243)\n",
            "3 tensor(1024)\n",
            "4 tensor(507)\n",
            "5 tensor(808)\n",
            "6 tensor(595)\n",
            "7 tensor(1255)\n",
            "8 tensor(973)\n",
            "9 tensor(1171)\n",
            "Iteration [14/20]\n",
            "tensor([2, 7, 1, 6, 3, 1, 2, 3, 3, 9])\n",
            "torch.Size([10000, 10]) torch.Size([10000])\n",
            "0 tensor(835)\n",
            "1 tensor(1608)\n",
            "2 tensor(1242)\n",
            "3 tensor(1023)\n",
            "4 tensor(500)\n",
            "5 tensor(800)\n",
            "6 tensor(603)\n",
            "7 tensor(1236)\n",
            "8 tensor(989)\n",
            "9 tensor(1164)\n",
            "Iteration [15/20]\n",
            "tensor([2, 7, 1, 6, 3, 1, 2, 3, 3, 9])\n",
            "torch.Size([10000, 10]) torch.Size([10000])\n",
            "0 tensor(839)\n",
            "1 tensor(1604)\n",
            "2 tensor(1237)\n",
            "3 tensor(1025)\n",
            "4 tensor(492)\n",
            "5 tensor(806)\n",
            "6 tensor(612)\n",
            "7 tensor(1234)\n",
            "8 tensor(996)\n",
            "9 tensor(1155)\n",
            "Iteration [16/20]\n",
            "tensor([2, 7, 1, 6, 3, 1, 2, 3, 3, 9])\n",
            "torch.Size([10000, 10]) torch.Size([10000])\n",
            "0 tensor(841)\n",
            "1 tensor(1601)\n",
            "2 tensor(1231)\n",
            "3 tensor(1025)\n",
            "4 tensor(490)\n",
            "5 tensor(813)\n",
            "6 tensor(612)\n",
            "7 tensor(1228)\n",
            "8 tensor(1016)\n",
            "9 tensor(1143)\n",
            "Iteration [17/20]\n",
            "tensor([2, 7, 1, 6, 3, 1, 2, 3, 3, 9])\n",
            "torch.Size([10000, 10]) torch.Size([10000])\n",
            "0 tensor(842)\n",
            "1 tensor(1601)\n",
            "2 tensor(1229)\n",
            "3 tensor(1025)\n",
            "4 tensor(492)\n",
            "5 tensor(821)\n",
            "6 tensor(613)\n",
            "7 tensor(1210)\n",
            "8 tensor(1043)\n",
            "9 tensor(1124)\n",
            "Iteration [18/20]\n",
            "tensor([2, 7, 1, 6, 3, 1, 2, 3, 3, 9])\n",
            "torch.Size([10000, 10]) torch.Size([10000])\n",
            "0 tensor(840)\n",
            "1 tensor(1604)\n",
            "2 tensor(1226)\n",
            "3 tensor(1025)\n",
            "4 tensor(495)\n",
            "5 tensor(821)\n",
            "6 tensor(609)\n",
            "7 tensor(1207)\n",
            "8 tensor(1068)\n",
            "9 tensor(1105)\n",
            "Iteration [19/20]\n",
            "20 iterations took 1.63 seconds, which corresponds to 0.08s/iteration\n"
          ]
        }
      ],
      "source": [
        "means  = test_x_tensor[np.random.randint(0, num_img , num_means)]\n",
        "start_time = time.time()\n",
        "for i in range(iterations):\n",
        "    dist = (test_x_tensor**2).sum(1, keepdim=True) + (means**2).sum(1, keepdim=True).T - 2*test_x_tensor@means.T\n",
        "    labels = torch.argmin(dist, axis=1)\n",
        "    print(labels[:10])\n",
        "    print(dist.shape, labels.shape)\n",
        "    for j in range(num_means):\n",
        "        means[j] = test_x_tensor[labels==j].mean(0)\n",
        "        print(j,(labels==j).sum())\n",
        "    print(\"Iteration [%d/%d]\" % (i,iterations))\n",
        "end_time = time.time()\n",
        "print(\"%d iterations took %.2f seconds, which corresponds to %.2fs/iteration\" % (iterations, end_time - start_time, (end_time - start_time)/iterations))"
      ]
    },
    {
      "cell_type": "markdown",
      "metadata": {
        "id": "m3ojCIQnyLM0"
      },
      "source": [
        "<h3>Lets visualise the the cluster centers!</h3>"
      ]
    },
    {
      "cell_type": "code",
      "execution_count": 27,
      "metadata": {
        "colab": {
          "base_uri": "https://localhost:8080/",
          "height": 851
        },
        "id": "4DJWKAFiyLM0",
        "outputId": "554545cb-4fbf-4808-9908-ad74e52d53c4"
      },
      "outputs": [
        {
          "output_type": "execute_result",
          "data": {
            "text/plain": [
              "<matplotlib.image.AxesImage at 0x7ee344feca90>"
            ]
          },
          "metadata": {},
          "execution_count": 27
        },
        {
          "output_type": "display_data",
          "data": {
            "text/plain": [
              "<Figure size 2000x1000 with 1 Axes>"
            ],
            "image/png": "[encoded data removed]"
          },
          "metadata": {}
        }
      ],
      "source": [
        "plt.figure(1, figsize=(20, 10))\n",
        "img = means.cpu().view(num_means*28,28)\n",
        "plt.imshow(img)"
      ]
    },
    {
      "cell_type": "code",
      "source": [],
      "metadata": {
        "id": "4t5a_AO-5NTY"
      },
      "execution_count": null,
      "outputs": []
    }
  ],
  "metadata": {
    "kernelspec": {
      "display_name": "Python 3",
      "language": "python",
      "name": "python3"
    },
    "language_info": {
      "codemirror_mode": {
        "name": "ipython",
        "version": 3
      },
      "file_extension": ".py",
      "mimetype": "text/x-python",
      "name": "python",
      "nbconvert_exporter": "python",
      "pygments_lexer": "ipython3",
      "version": "3.6.9"
    },
    "colab": {
      "provenance": []
    }
  },
  "nbformat": 4,
  "nbformat_minor": 0
}